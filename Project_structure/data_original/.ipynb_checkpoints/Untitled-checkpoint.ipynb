{
 "cells": [
  {
   "cell_type": "code",
   "execution_count": 3,
   "id": "141bdb13",
   "metadata": {},
   "outputs": [
    {
     "name": "stderr",
     "output_type": "stream",
     "text": [
      "[nltk_data] Downloading package stopwords to\n",
      "[nltk_data]     C:\\Users\\Chedvihas\\AppData\\Roaming\\nltk_data...\n",
      "[nltk_data]   Package stopwords is already up-to-date!\n"
     ]
    },
    {
     "name": "stdout",
     "output_type": "stream",
     "text": [
      "       Website                                    Title  \\\n",
      "4249  Facebook            A Decade of Building Facebook   \n",
      "4431  Facebook  Surround 360: Beyond Stereo 360 Cameras   \n",
      "\n",
      "                                                   Link content  \n",
      "4249  https://engineering.fb.com/2014/02/04/web/a-de...     NaN  \n",
      "4431  https://engineering.fb.com/2017/04/19/virtual-...     NaN  \n"
     ]
    }
   ],
   "source": [
    "import numpy as np\n",
    "import pandas as pd\n",
    "import regex as re\n",
    "import string\n",
    "from nltk.stem import WordNetLemmatizer\n",
    "import nltk\n",
    "nltk.download('stopwords')\n",
    "from nltk.corpus import stopwords\n",
    "\n",
    "df = pd.read_csv('Blog-data-original.csv')\n",
    "\n",
    "print(df[df.isnull().any(axis=1)])\n",
    "\n",
    "# df = df.dropna()\n",
    "\n",
    "# df_p = df.dropna()\n",
    "\n",
    "#print(df[df.isnull().any(axis=1)])\n",
    "\n"
   ]
  },
  {
   "cell_type": "code",
   "execution_count": null,
   "id": "fdfa31c1",
   "metadata": {},
   "outputs": [],
   "source": [
    "df_p['content'] = df_p['Title'].str.replace(\"[^\\w\\s]|[_]\", \" \") + ' ' +  df['content']\n",
    "\n",
    "#to lowercase all the text\n",
    "df_p['content'] = df_p['content'].str.lower()\n",
    "\n",
    "#to remove punctuations\n",
    "df_p['content'] = df_p['content'].str.replace(\"[^\\w\\s]|[_]\", \" \")\n",
    "\n",
    "#to remove any digits or numerical data\n",
    "df_p['content'] = df_p['content'].str.replace('\\d+', ' ')\n",
    "df_p['content'] = df['content'].replace(r'\\s+', ' ')\n",
    "\n",
    "lemmatizer = WordNetLemmatizer()\n",
    "stop_words = stopwords.words('english')\n",
    "df_p['content'] = df_p['content'].apply(lambda x: ' '.join([word.strip() for word in x.split() if word not in (stop_words)]))\n",
    "df_p['content'] = df_p['content'].apply(lambda x: ' '.join([lemmatizer.lemmatize(word.strip()) for word in x.split()]))\n",
    "\n",
    "print(df_p['content'][0])\n",
    "df_p.to_csv('data_processed/Blog-data-preprocessed.csv',index=False)\n",
    "\n",
    "\n"
   ]
  }
 ],
 "metadata": {
  "kernelspec": {
   "display_name": "Python 3 (ipykernel)",
   "language": "python",
   "name": "python3"
  },
  "language_info": {
   "codemirror_mode": {
    "name": "ipython",
    "version": 3
   },
   "file_extension": ".py",
   "mimetype": "text/x-python",
   "name": "python",
   "nbconvert_exporter": "python",
   "pygments_lexer": "ipython3",
   "version": "3.9.7"
  }
 },
 "nbformat": 4,
 "nbformat_minor": 5
}
